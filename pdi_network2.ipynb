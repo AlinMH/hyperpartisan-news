{
  "nbformat": 4,
  "nbformat_minor": 0,
  "metadata": {
    "kernelspec": {
      "display_name": "tf_env_gpu",
      "language": "python",
      "name": "tf_env_gpu"
    },
    "language_info": {
      "codemirror_mode": {
        "name": "ipython",
        "version": 3
      },
      "file_extension": ".py",
      "mimetype": "text/x-python",
      "name": "python",
      "nbconvert_exporter": "python",
      "pygments_lexer": "ipython3",
      "version": "3.7.7"
    },
    "toc": {
      "base_numbering": 1,
      "nav_menu": {},
      "number_sections": true,
      "sideBar": true,
      "skip_h1_title": false,
      "title_cell": "Table of Contents",
      "title_sidebar": "Contents",
      "toc_cell": false,
      "toc_position": {},
      "toc_section_display": true,
      "toc_window_display": false
    },
    "colab": {
      "name": "Copy of documents_BERT.ipynb",
      "provenance": [],
      "collapsed_sections": []
    },
    "accelerator": "GPU",
    "widgets": {
      "application/vnd.jupyter.widget-state+json": {
        "986b002d4c1640ac93b22f2311773f3d": {
          "model_module": "@jupyter-widgets/controls",
          "model_name": "HBoxModel",
          "state": {
            "_view_name": "HBoxView",
            "_dom_classes": [],
            "_model_name": "HBoxModel",
            "_view_module": "@jupyter-widgets/controls",
            "_model_module_version": "1.5.0",
            "_view_count": null,
            "_view_module_version": "1.5.0",
            "box_style": "",
            "layout": "IPY_MODEL_bbbb0ff12c354618b53f0554588a863f",
            "_model_module": "@jupyter-widgets/controls",
            "children": [
              "IPY_MODEL_c7c022181d3744999ba9420e01234c44",
              "IPY_MODEL_eb97ca9f300541d9a97f9162b2aaf9ed"
            ]
          }
        },
        "bbbb0ff12c354618b53f0554588a863f": {
          "model_module": "@jupyter-widgets/base",
          "model_name": "LayoutModel",
          "state": {
            "_view_name": "LayoutView",
            "grid_template_rows": null,
            "right": null,
            "justify_content": null,
            "_view_module": "@jupyter-widgets/base",
            "overflow": null,
            "_model_module_version": "1.2.0",
            "_view_count": null,
            "flex_flow": null,
            "width": null,
            "min_width": null,
            "border": null,
            "align_items": null,
            "bottom": null,
            "_model_module": "@jupyter-widgets/base",
            "top": null,
            "grid_column": null,
            "overflow_y": null,
            "overflow_x": null,
            "grid_auto_flow": null,
            "grid_area": null,
            "grid_template_columns": null,
            "flex": null,
            "_model_name": "LayoutModel",
            "justify_items": null,
            "grid_row": null,
            "max_height": null,
            "align_content": null,
            "visibility": null,
            "align_self": null,
            "height": null,
            "min_height": null,
            "padding": null,
            "grid_auto_rows": null,
            "grid_gap": null,
            "max_width": null,
            "order": null,
            "_view_module_version": "1.2.0",
            "grid_template_areas": null,
            "object_position": null,
            "object_fit": null,
            "grid_auto_columns": null,
            "margin": null,
            "display": null,
            "left": null
          }
        },
        "c7c022181d3744999ba9420e01234c44": {
          "model_module": "@jupyter-widgets/controls",
          "model_name": "FloatProgressModel",
          "state": {
            "_view_name": "ProgressView",
            "style": "IPY_MODEL_b24d4f44a7734de4901dc76fda72284a",
            "_dom_classes": [],
            "description": "Downloading: 100%",
            "_model_name": "FloatProgressModel",
            "bar_style": "success",
            "max": 231508,
            "_view_module": "@jupyter-widgets/controls",
            "_model_module_version": "1.5.0",
            "value": 231508,
            "_view_count": null,
            "_view_module_version": "1.5.0",
            "orientation": "horizontal",
            "min": 0,
            "description_tooltip": null,
            "_model_module": "@jupyter-widgets/controls",
            "layout": "IPY_MODEL_f4ac587f59be4ea397eb0a07e496e3c7"
          }
        },
        "eb97ca9f300541d9a97f9162b2aaf9ed": {
          "model_module": "@jupyter-widgets/controls",
          "model_name": "HTMLModel",
          "state": {
            "_view_name": "HTMLView",
            "style": "IPY_MODEL_ae95deffcfaa4c2a8e47b19d8f8518d5",
            "_dom_classes": [],
            "description": "",
            "_model_name": "HTMLModel",
            "placeholder": "​",
            "_view_module": "@jupyter-widgets/controls",
            "_model_module_version": "1.5.0",
            "value": " 232k/232k [00:00&lt;00:00, 3.65MB/s]",
            "_view_count": null,
            "_view_module_version": "1.5.0",
            "description_tooltip": null,
            "_model_module": "@jupyter-widgets/controls",
            "layout": "IPY_MODEL_b7691cf6e3c244f39bf061c5dec65593"
          }
        },
        "b24d4f44a7734de4901dc76fda72284a": {
          "model_module": "@jupyter-widgets/controls",
          "model_name": "ProgressStyleModel",
          "state": {
            "_view_name": "StyleView",
            "_model_name": "ProgressStyleModel",
            "description_width": "initial",
            "_view_module": "@jupyter-widgets/base",
            "_model_module_version": "1.5.0",
            "_view_count": null,
            "_view_module_version": "1.2.0",
            "bar_color": null,
            "_model_module": "@jupyter-widgets/controls"
          }
        },
        "f4ac587f59be4ea397eb0a07e496e3c7": {
          "model_module": "@jupyter-widgets/base",
          "model_name": "LayoutModel",
          "state": {
            "_view_name": "LayoutView",
            "grid_template_rows": null,
            "right": null,
            "justify_content": null,
            "_view_module": "@jupyter-widgets/base",
            "overflow": null,
            "_model_module_version": "1.2.0",
            "_view_count": null,
            "flex_flow": null,
            "width": null,
            "min_width": null,
            "border": null,
            "align_items": null,
            "bottom": null,
            "_model_module": "@jupyter-widgets/base",
            "top": null,
            "grid_column": null,
            "overflow_y": null,
            "overflow_x": null,
            "grid_auto_flow": null,
            "grid_area": null,
            "grid_template_columns": null,
            "flex": null,
            "_model_name": "LayoutModel",
            "justify_items": null,
            "grid_row": null,
            "max_height": null,
            "align_content": null,
            "visibility": null,
            "align_self": null,
            "height": null,
            "min_height": null,
            "padding": null,
            "grid_auto_rows": null,
            "grid_gap": null,
            "max_width": null,
            "order": null,
            "_view_module_version": "1.2.0",
            "grid_template_areas": null,
            "object_position": null,
            "object_fit": null,
            "grid_auto_columns": null,
            "margin": null,
            "display": null,
            "left": null
          }
        },
        "ae95deffcfaa4c2a8e47b19d8f8518d5": {
          "model_module": "@jupyter-widgets/controls",
          "model_name": "DescriptionStyleModel",
          "state": {
            "_view_name": "StyleView",
            "_model_name": "DescriptionStyleModel",
            "description_width": "",
            "_view_module": "@jupyter-widgets/base",
            "_model_module_version": "1.5.0",
            "_view_count": null,
            "_view_module_version": "1.2.0",
            "_model_module": "@jupyter-widgets/controls"
          }
        },
        "b7691cf6e3c244f39bf061c5dec65593": {
          "model_module": "@jupyter-widgets/base",
          "model_name": "LayoutModel",
          "state": {
            "_view_name": "LayoutView",
            "grid_template_rows": null,
            "right": null,
            "justify_content": null,
            "_view_module": "@jupyter-widgets/base",
            "overflow": null,
            "_model_module_version": "1.2.0",
            "_view_count": null,
            "flex_flow": null,
            "width": null,
            "min_width": null,
            "border": null,
            "align_items": null,
            "bottom": null,
            "_model_module": "@jupyter-widgets/base",
            "top": null,
            "grid_column": null,
            "overflow_y": null,
            "overflow_x": null,
            "grid_auto_flow": null,
            "grid_area": null,
            "grid_template_columns": null,
            "flex": null,
            "_model_name": "LayoutModel",
            "justify_items": null,
            "grid_row": null,
            "max_height": null,
            "align_content": null,
            "visibility": null,
            "align_self": null,
            "height": null,
            "min_height": null,
            "padding": null,
            "grid_auto_rows": null,
            "grid_gap": null,
            "max_width": null,
            "order": null,
            "_view_module_version": "1.2.0",
            "grid_template_areas": null,
            "object_position": null,
            "object_fit": null,
            "grid_auto_columns": null,
            "margin": null,
            "display": null,
            "left": null
          }
        },
        "9c44cf5f52f34717b70e3c32dbe0cf4c": {
          "model_module": "@jupyter-widgets/controls",
          "model_name": "HBoxModel",
          "state": {
            "_view_name": "HBoxView",
            "_dom_classes": [],
            "_model_name": "HBoxModel",
            "_view_module": "@jupyter-widgets/controls",
            "_model_module_version": "1.5.0",
            "_view_count": null,
            "_view_module_version": "1.5.0",
            "box_style": "",
            "layout": "IPY_MODEL_4f843f45399642918bd31699bac78b5c",
            "_model_module": "@jupyter-widgets/controls",
            "children": [
              "IPY_MODEL_8a97950b3a6d4aa587940ac1822541d2",
              "IPY_MODEL_2f4544dc96b84729b2661dd86233324f"
            ]
          }
        },
        "4f843f45399642918bd31699bac78b5c": {
          "model_module": "@jupyter-widgets/base",
          "model_name": "LayoutModel",
          "state": {
            "_view_name": "LayoutView",
            "grid_template_rows": null,
            "right": null,
            "justify_content": null,
            "_view_module": "@jupyter-widgets/base",
            "overflow": null,
            "_model_module_version": "1.2.0",
            "_view_count": null,
            "flex_flow": null,
            "width": null,
            "min_width": null,
            "border": null,
            "align_items": null,
            "bottom": null,
            "_model_module": "@jupyter-widgets/base",
            "top": null,
            "grid_column": null,
            "overflow_y": null,
            "overflow_x": null,
            "grid_auto_flow": null,
            "grid_area": null,
            "grid_template_columns": null,
            "flex": null,
            "_model_name": "LayoutModel",
            "justify_items": null,
            "grid_row": null,
            "max_height": null,
            "align_content": null,
            "visibility": null,
            "align_self": null,
            "height": null,
            "min_height": null,
            "padding": null,
            "grid_auto_rows": null,
            "grid_gap": null,
            "max_width": null,
            "order": null,
            "_view_module_version": "1.2.0",
            "grid_template_areas": null,
            "object_position": null,
            "object_fit": null,
            "grid_auto_columns": null,
            "margin": null,
            "display": null,
            "left": null
          }
        },
        "8a97950b3a6d4aa587940ac1822541d2": {
          "model_module": "@jupyter-widgets/controls",
          "model_name": "FloatProgressModel",
          "state": {
            "_view_name": "ProgressView",
            "style": "IPY_MODEL_64269e2492cf4dfbb4d8938896f61700",
            "_dom_classes": [],
            "description": "Downloading: 100%",
            "_model_name": "FloatProgressModel",
            "bar_style": "success",
            "max": 433,
            "_view_module": "@jupyter-widgets/controls",
            "_model_module_version": "1.5.0",
            "value": 433,
            "_view_count": null,
            "_view_module_version": "1.5.0",
            "orientation": "horizontal",
            "min": 0,
            "description_tooltip": null,
            "_model_module": "@jupyter-widgets/controls",
            "layout": "IPY_MODEL_0ac5712e51684ad68adfd76e20221a95"
          }
        },
        "2f4544dc96b84729b2661dd86233324f": {
          "model_module": "@jupyter-widgets/controls",
          "model_name": "HTMLModel",
          "state": {
            "_view_name": "HTMLView",
            "style": "IPY_MODEL_e27a7668b6fc4359952c491761b75b63",
            "_dom_classes": [],
            "description": "",
            "_model_name": "HTMLModel",
            "placeholder": "​",
            "_view_module": "@jupyter-widgets/controls",
            "_model_module_version": "1.5.0",
            "value": " 433/433 [00:06&lt;00:00, 63.0B/s]",
            "_view_count": null,
            "_view_module_version": "1.5.0",
            "description_tooltip": null,
            "_model_module": "@jupyter-widgets/controls",
            "layout": "IPY_MODEL_09259e0989db44ec996af6d22be71779"
          }
        },
        "64269e2492cf4dfbb4d8938896f61700": {
          "model_module": "@jupyter-widgets/controls",
          "model_name": "ProgressStyleModel",
          "state": {
            "_view_name": "StyleView",
            "_model_name": "ProgressStyleModel",
            "description_width": "initial",
            "_view_module": "@jupyter-widgets/base",
            "_model_module_version": "1.5.0",
            "_view_count": null,
            "_view_module_version": "1.2.0",
            "bar_color": null,
            "_model_module": "@jupyter-widgets/controls"
          }
        },
        "0ac5712e51684ad68adfd76e20221a95": {
          "model_module": "@jupyter-widgets/base",
          "model_name": "LayoutModel",
          "state": {
            "_view_name": "LayoutView",
            "grid_template_rows": null,
            "right": null,
            "justify_content": null,
            "_view_module": "@jupyter-widgets/base",
            "overflow": null,
            "_model_module_version": "1.2.0",
            "_view_count": null,
            "flex_flow": null,
            "width": null,
            "min_width": null,
            "border": null,
            "align_items": null,
            "bottom": null,
            "_model_module": "@jupyter-widgets/base",
            "top": null,
            "grid_column": null,
            "overflow_y": null,
            "overflow_x": null,
            "grid_auto_flow": null,
            "grid_area": null,
            "grid_template_columns": null,
            "flex": null,
            "_model_name": "LayoutModel",
            "justify_items": null,
            "grid_row": null,
            "max_height": null,
            "align_content": null,
            "visibility": null,
            "align_self": null,
            "height": null,
            "min_height": null,
            "padding": null,
            "grid_auto_rows": null,
            "grid_gap": null,
            "max_width": null,
            "order": null,
            "_view_module_version": "1.2.0",
            "grid_template_areas": null,
            "object_position": null,
            "object_fit": null,
            "grid_auto_columns": null,
            "margin": null,
            "display": null,
            "left": null
          }
        },
        "e27a7668b6fc4359952c491761b75b63": {
          "model_module": "@jupyter-widgets/controls",
          "model_name": "DescriptionStyleModel",
          "state": {
            "_view_name": "StyleView",
            "_model_name": "DescriptionStyleModel",
            "description_width": "",
            "_view_module": "@jupyter-widgets/base",
            "_model_module_version": "1.5.0",
            "_view_count": null,
            "_view_module_version": "1.2.0",
            "_model_module": "@jupyter-widgets/controls"
          }
        },
        "09259e0989db44ec996af6d22be71779": {
          "model_module": "@jupyter-widgets/base",
          "model_name": "LayoutModel",
          "state": {
            "_view_name": "LayoutView",
            "grid_template_rows": null,
            "right": null,
            "justify_content": null,
            "_view_module": "@jupyter-widgets/base",
            "overflow": null,
            "_model_module_version": "1.2.0",
            "_view_count": null,
            "flex_flow": null,
            "width": null,
            "min_width": null,
            "border": null,
            "align_items": null,
            "bottom": null,
            "_model_module": "@jupyter-widgets/base",
            "top": null,
            "grid_column": null,
            "overflow_y": null,
            "overflow_x": null,
            "grid_auto_flow": null,
            "grid_area": null,
            "grid_template_columns": null,
            "flex": null,
            "_model_name": "LayoutModel",
            "justify_items": null,
            "grid_row": null,
            "max_height": null,
            "align_content": null,
            "visibility": null,
            "align_self": null,
            "height": null,
            "min_height": null,
            "padding": null,
            "grid_auto_rows": null,
            "grid_gap": null,
            "max_width": null,
            "order": null,
            "_view_module_version": "1.2.0",
            "grid_template_areas": null,
            "object_position": null,
            "object_fit": null,
            "grid_auto_columns": null,
            "margin": null,
            "display": null,
            "left": null
          }
        },
        "94059e58c2e94d449662fc158ea39dec": {
          "model_module": "@jupyter-widgets/controls",
          "model_name": "HBoxModel",
          "state": {
            "_view_name": "HBoxView",
            "_dom_classes": [],
            "_model_name": "HBoxModel",
            "_view_module": "@jupyter-widgets/controls",
            "_model_module_version": "1.5.0",
            "_view_count": null,
            "_view_module_version": "1.5.0",
            "box_style": "",
            "layout": "IPY_MODEL_c06a099b80d94d19ad8a14ff51d2c2e3",
            "_model_module": "@jupyter-widgets/controls",
            "children": [
              "IPY_MODEL_199a53729c3d4fddbe9ff0b2db47be6c",
              "IPY_MODEL_52f32e0bc62346458bee579d116548ca"
            ]
          }
        },
        "c06a099b80d94d19ad8a14ff51d2c2e3": {
          "model_module": "@jupyter-widgets/base",
          "model_name": "LayoutModel",
          "state": {
            "_view_name": "LayoutView",
            "grid_template_rows": null,
            "right": null,
            "justify_content": null,
            "_view_module": "@jupyter-widgets/base",
            "overflow": null,
            "_model_module_version": "1.2.0",
            "_view_count": null,
            "flex_flow": null,
            "width": null,
            "min_width": null,
            "border": null,
            "align_items": null,
            "bottom": null,
            "_model_module": "@jupyter-widgets/base",
            "top": null,
            "grid_column": null,
            "overflow_y": null,
            "overflow_x": null,
            "grid_auto_flow": null,
            "grid_area": null,
            "grid_template_columns": null,
            "flex": null,
            "_model_name": "LayoutModel",
            "justify_items": null,
            "grid_row": null,
            "max_height": null,
            "align_content": null,
            "visibility": null,
            "align_self": null,
            "height": null,
            "min_height": null,
            "padding": null,
            "grid_auto_rows": null,
            "grid_gap": null,
            "max_width": null,
            "order": null,
            "_view_module_version": "1.2.0",
            "grid_template_areas": null,
            "object_position": null,
            "object_fit": null,
            "grid_auto_columns": null,
            "margin": null,
            "display": null,
            "left": null
          }
        },
        "199a53729c3d4fddbe9ff0b2db47be6c": {
          "model_module": "@jupyter-widgets/controls",
          "model_name": "FloatProgressModel",
          "state": {
            "_view_name": "ProgressView",
            "style": "IPY_MODEL_8ae04c7f052948daa5bb52c914e48a58",
            "_dom_classes": [],
            "description": "Downloading: 100%",
            "_model_name": "FloatProgressModel",
            "bar_style": "success",
            "max": 536063208,
            "_view_module": "@jupyter-widgets/controls",
            "_model_module_version": "1.5.0",
            "value": 536063208,
            "_view_count": null,
            "_view_module_version": "1.5.0",
            "orientation": "horizontal",
            "min": 0,
            "description_tooltip": null,
            "_model_module": "@jupyter-widgets/controls",
            "layout": "IPY_MODEL_7fb1a04464fd4d54bc9bdbb854579753"
          }
        },
        "52f32e0bc62346458bee579d116548ca": {
          "model_module": "@jupyter-widgets/controls",
          "model_name": "HTMLModel",
          "state": {
            "_view_name": "HTMLView",
            "style": "IPY_MODEL_56d107ab83764fa4889f983bc5f58dcd",
            "_dom_classes": [],
            "description": "",
            "_model_name": "HTMLModel",
            "placeholder": "​",
            "_view_module": "@jupyter-widgets/controls",
            "_model_module_version": "1.5.0",
            "value": " 536M/536M [00:06&lt;00:00, 79.8MB/s]",
            "_view_count": null,
            "_view_module_version": "1.5.0",
            "description_tooltip": null,
            "_model_module": "@jupyter-widgets/controls",
            "layout": "IPY_MODEL_c493fd08e5094a9686dcfd325b51d99c"
          }
        },
        "8ae04c7f052948daa5bb52c914e48a58": {
          "model_module": "@jupyter-widgets/controls",
          "model_name": "ProgressStyleModel",
          "state": {
            "_view_name": "StyleView",
            "_model_name": "ProgressStyleModel",
            "description_width": "initial",
            "_view_module": "@jupyter-widgets/base",
            "_model_module_version": "1.5.0",
            "_view_count": null,
            "_view_module_version": "1.2.0",
            "bar_color": null,
            "_model_module": "@jupyter-widgets/controls"
          }
        },
        "7fb1a04464fd4d54bc9bdbb854579753": {
          "model_module": "@jupyter-widgets/base",
          "model_name": "LayoutModel",
          "state": {
            "_view_name": "LayoutView",
            "grid_template_rows": null,
            "right": null,
            "justify_content": null,
            "_view_module": "@jupyter-widgets/base",
            "overflow": null,
            "_model_module_version": "1.2.0",
            "_view_count": null,
            "flex_flow": null,
            "width": null,
            "min_width": null,
            "border": null,
            "align_items": null,
            "bottom": null,
            "_model_module": "@jupyter-widgets/base",
            "top": null,
            "grid_column": null,
            "overflow_y": null,
            "overflow_x": null,
            "grid_auto_flow": null,
            "grid_area": null,
            "grid_template_columns": null,
            "flex": null,
            "_model_name": "LayoutModel",
            "justify_items": null,
            "grid_row": null,
            "max_height": null,
            "align_content": null,
            "visibility": null,
            "align_self": null,
            "height": null,
            "min_height": null,
            "padding": null,
            "grid_auto_rows": null,
            "grid_gap": null,
            "max_width": null,
            "order": null,
            "_view_module_version": "1.2.0",
            "grid_template_areas": null,
            "object_position": null,
            "object_fit": null,
            "grid_auto_columns": null,
            "margin": null,
            "display": null,
            "left": null
          }
        },
        "56d107ab83764fa4889f983bc5f58dcd": {
          "model_module": "@jupyter-widgets/controls",
          "model_name": "DescriptionStyleModel",
          "state": {
            "_view_name": "StyleView",
            "_model_name": "DescriptionStyleModel",
            "description_width": "",
            "_view_module": "@jupyter-widgets/base",
            "_model_module_version": "1.5.0",
            "_view_count": null,
            "_view_module_version": "1.2.0",
            "_model_module": "@jupyter-widgets/controls"
          }
        },
        "c493fd08e5094a9686dcfd325b51d99c": {
          "model_module": "@jupyter-widgets/base",
          "model_name": "LayoutModel",
          "state": {
            "_view_name": "LayoutView",
            "grid_template_rows": null,
            "right": null,
            "justify_content": null,
            "_view_module": "@jupyter-widgets/base",
            "overflow": null,
            "_model_module_version": "1.2.0",
            "_view_count": null,
            "flex_flow": null,
            "width": null,
            "min_width": null,
            "border": null,
            "align_items": null,
            "bottom": null,
            "_model_module": "@jupyter-widgets/base",
            "top": null,
            "grid_column": null,
            "overflow_y": null,
            "overflow_x": null,
            "grid_auto_flow": null,
            "grid_area": null,
            "grid_template_columns": null,
            "flex": null,
            "_model_name": "LayoutModel",
            "justify_items": null,
            "grid_row": null,
            "max_height": null,
            "align_content": null,
            "visibility": null,
            "align_self": null,
            "height": null,
            "min_height": null,
            "padding": null,
            "grid_auto_rows": null,
            "grid_gap": null,
            "max_width": null,
            "order": null,
            "_view_module_version": "1.2.0",
            "grid_template_areas": null,
            "object_position": null,
            "object_fit": null,
            "grid_auto_columns": null,
            "margin": null,
            "display": null,
            "left": null
          }
        }
      }
    }
  },
  "cells": [
    {
      "cell_type": "code",
      "metadata": {
        "colab": {
          "base_uri": "https://localhost:8080/"
        },
        "id": "SdkhZ4Oa8-en",
        "outputId": "16a17456-664d-42bb-d27d-fbf429c53305"
      },
      "source": [
        "!pip install transformers==3.2.0"
      ],
      "execution_count": null,
      "outputs": [
        {
          "output_type": "stream",
          "text": [
            "Collecting transformers==3.2.0\n",
            "\u001b[?25l  Downloading https://files.pythonhosted.org/packages/d8/f4/9f93f06dd2c57c7cd7aa515ffbf9fcfd8a084b92285732289f4a5696dd91/transformers-3.2.0-py3-none-any.whl (1.0MB)\n",
            "\r\u001b[K     |▎                               | 10kB 19.1MB/s eta 0:00:01\r\u001b[K     |▋                               | 20kB 24.2MB/s eta 0:00:01\r\u001b[K     |█                               | 30kB 26.5MB/s eta 0:00:01\r\u001b[K     |█▎                              | 40kB 20.3MB/s eta 0:00:01\r\u001b[K     |█▋                              | 51kB 14.3MB/s eta 0:00:01\r\u001b[K     |██                              | 61kB 14.7MB/s eta 0:00:01\r\u001b[K     |██▎                             | 71kB 15.1MB/s eta 0:00:01\r\u001b[K     |██▋                             | 81kB 14.7MB/s eta 0:00:01\r\u001b[K     |███                             | 92kB 14.4MB/s eta 0:00:01\r\u001b[K     |███▎                            | 102kB 13.9MB/s eta 0:00:01\r\u001b[K     |███▋                            | 112kB 13.9MB/s eta 0:00:01\r\u001b[K     |███▉                            | 122kB 13.9MB/s eta 0:00:01\r\u001b[K     |████▏                           | 133kB 13.9MB/s eta 0:00:01\r\u001b[K     |████▌                           | 143kB 13.9MB/s eta 0:00:01\r\u001b[K     |████▉                           | 153kB 13.9MB/s eta 0:00:01\r\u001b[K     |█████▏                          | 163kB 13.9MB/s eta 0:00:01\r\u001b[K     |█████▌                          | 174kB 13.9MB/s eta 0:00:01\r\u001b[K     |█████▉                          | 184kB 13.9MB/s eta 0:00:01\r\u001b[K     |██████▏                         | 194kB 13.9MB/s eta 0:00:01\r\u001b[K     |██████▌                         | 204kB 13.9MB/s eta 0:00:01\r\u001b[K     |██████▉                         | 215kB 13.9MB/s eta 0:00:01\r\u001b[K     |███████▏                        | 225kB 13.9MB/s eta 0:00:01\r\u001b[K     |███████▍                        | 235kB 13.9MB/s eta 0:00:01\r\u001b[K     |███████▊                        | 245kB 13.9MB/s eta 0:00:01\r\u001b[K     |████████                        | 256kB 13.9MB/s eta 0:00:01\r\u001b[K     |████████▍                       | 266kB 13.9MB/s eta 0:00:01\r\u001b[K     |████████▊                       | 276kB 13.9MB/s eta 0:00:01\r\u001b[K     |█████████                       | 286kB 13.9MB/s eta 0:00:01\r\u001b[K     |█████████▍                      | 296kB 13.9MB/s eta 0:00:01\r\u001b[K     |█████████▊                      | 307kB 13.9MB/s eta 0:00:01\r\u001b[K     |██████████                      | 317kB 13.9MB/s eta 0:00:01\r\u001b[K     |██████████▍                     | 327kB 13.9MB/s eta 0:00:01\r\u001b[K     |██████████▊                     | 337kB 13.9MB/s eta 0:00:01\r\u001b[K     |███████████                     | 348kB 13.9MB/s eta 0:00:01\r\u001b[K     |███████████▎                    | 358kB 13.9MB/s eta 0:00:01\r\u001b[K     |███████████▋                    | 368kB 13.9MB/s eta 0:00:01\r\u001b[K     |████████████                    | 378kB 13.9MB/s eta 0:00:01\r\u001b[K     |████████████▎                   | 389kB 13.9MB/s eta 0:00:01\r\u001b[K     |████████████▋                   | 399kB 13.9MB/s eta 0:00:01\r\u001b[K     |█████████████                   | 409kB 13.9MB/s eta 0:00:01\r\u001b[K     |█████████████▎                  | 419kB 13.9MB/s eta 0:00:01\r\u001b[K     |█████████████▋                  | 430kB 13.9MB/s eta 0:00:01\r\u001b[K     |██████████████                  | 440kB 13.9MB/s eta 0:00:01\r\u001b[K     |██████████████▎                 | 450kB 13.9MB/s eta 0:00:01\r\u001b[K     |██████████████▋                 | 460kB 13.9MB/s eta 0:00:01\r\u001b[K     |██████████████▉                 | 471kB 13.9MB/s eta 0:00:01\r\u001b[K     |███████████████▏                | 481kB 13.9MB/s eta 0:00:01\r\u001b[K     |███████████████▌                | 491kB 13.9MB/s eta 0:00:01\r\u001b[K     |███████████████▉                | 501kB 13.9MB/s eta 0:00:01\r\u001b[K     |████████████████▏               | 512kB 13.9MB/s eta 0:00:01\r\u001b[K     |████████████████▌               | 522kB 13.9MB/s eta 0:00:01\r\u001b[K     |████████████████▉               | 532kB 13.9MB/s eta 0:00:01\r\u001b[K     |█████████████████▏              | 542kB 13.9MB/s eta 0:00:01\r\u001b[K     |█████████████████▌              | 552kB 13.9MB/s eta 0:00:01\r\u001b[K     |█████████████████▉              | 563kB 13.9MB/s eta 0:00:01\r\u001b[K     |██████████████████▏             | 573kB 13.9MB/s eta 0:00:01\r\u001b[K     |██████████████████▍             | 583kB 13.9MB/s eta 0:00:01\r\u001b[K     |██████████████████▊             | 593kB 13.9MB/s eta 0:00:01\r\u001b[K     |███████████████████             | 604kB 13.9MB/s eta 0:00:01\r\u001b[K     |███████████████████▍            | 614kB 13.9MB/s eta 0:00:01\r\u001b[K     |███████████████████▊            | 624kB 13.9MB/s eta 0:00:01\r\u001b[K     |████████████████████            | 634kB 13.9MB/s eta 0:00:01\r\u001b[K     |████████████████████▍           | 645kB 13.9MB/s eta 0:00:01\r\u001b[K     |████████████████████▊           | 655kB 13.9MB/s eta 0:00:01\r\u001b[K     |█████████████████████           | 665kB 13.9MB/s eta 0:00:01\r\u001b[K     |█████████████████████▍          | 675kB 13.9MB/s eta 0:00:01\r\u001b[K     |█████████████████████▊          | 686kB 13.9MB/s eta 0:00:01\r\u001b[K     |██████████████████████          | 696kB 13.9MB/s eta 0:00:01\r\u001b[K     |██████████████████████▎         | 706kB 13.9MB/s eta 0:00:01\r\u001b[K     |██████████████████████▋         | 716kB 13.9MB/s eta 0:00:01\r\u001b[K     |███████████████████████         | 727kB 13.9MB/s eta 0:00:01\r\u001b[K     |███████████████████████▎        | 737kB 13.9MB/s eta 0:00:01\r\u001b[K     |███████████████████████▋        | 747kB 13.9MB/s eta 0:00:01\r\u001b[K     |████████████████████████        | 757kB 13.9MB/s eta 0:00:01\r\u001b[K     |████████████████████████▎       | 768kB 13.9MB/s eta 0:00:01\r\u001b[K     |████████████████████████▋       | 778kB 13.9MB/s eta 0:00:01\r\u001b[K     |█████████████████████████       | 788kB 13.9MB/s eta 0:00:01\r\u001b[K     |█████████████████████████▎      | 798kB 13.9MB/s eta 0:00:01\r\u001b[K     |█████████████████████████▋      | 808kB 13.9MB/s eta 0:00:01\r\u001b[K     |█████████████████████████▉      | 819kB 13.9MB/s eta 0:00:01\r\u001b[K     |██████████████████████████▏     | 829kB 13.9MB/s eta 0:00:01\r\u001b[K     |██████████████████████████▌     | 839kB 13.9MB/s eta 0:00:01\r\u001b[K     |██████████████████████████▉     | 849kB 13.9MB/s eta 0:00:01\r\u001b[K     |███████████████████████████▏    | 860kB 13.9MB/s eta 0:00:01\r\u001b[K     |███████████████████████████▌    | 870kB 13.9MB/s eta 0:00:01\r\u001b[K     |███████████████████████████▉    | 880kB 13.9MB/s eta 0:00:01\r\u001b[K     |████████████████████████████▏   | 890kB 13.9MB/s eta 0:00:01\r\u001b[K     |████████████████████████████▌   | 901kB 13.9MB/s eta 0:00:01\r\u001b[K     |████████████████████████████▉   | 911kB 13.9MB/s eta 0:00:01\r\u001b[K     |█████████████████████████████▏  | 921kB 13.9MB/s eta 0:00:01\r\u001b[K     |█████████████████████████████▍  | 931kB 13.9MB/s eta 0:00:01\r\u001b[K     |█████████████████████████████▊  | 942kB 13.9MB/s eta 0:00:01\r\u001b[K     |██████████████████████████████  | 952kB 13.9MB/s eta 0:00:01\r\u001b[K     |██████████████████████████████▍ | 962kB 13.9MB/s eta 0:00:01\r\u001b[K     |██████████████████████████████▊ | 972kB 13.9MB/s eta 0:00:01\r\u001b[K     |███████████████████████████████ | 983kB 13.9MB/s eta 0:00:01\r\u001b[K     |███████████████████████████████▍| 993kB 13.9MB/s eta 0:00:01\r\u001b[K     |███████████████████████████████▊| 1.0MB 13.9MB/s eta 0:00:01\r\u001b[K     |████████████████████████████████| 1.0MB 13.9MB/s \n",
            "\u001b[?25hRequirement already satisfied: filelock in /usr/local/lib/python3.6/dist-packages (from transformers==3.2.0) (3.0.12)\n",
            "Requirement already satisfied: regex!=2019.12.17 in /usr/local/lib/python3.6/dist-packages (from transformers==3.2.0) (2019.12.20)\n",
            "Requirement already satisfied: packaging in /usr/local/lib/python3.6/dist-packages (from transformers==3.2.0) (20.7)\n",
            "Requirement already satisfied: requests in /usr/local/lib/python3.6/dist-packages (from transformers==3.2.0) (2.23.0)\n",
            "Collecting sentencepiece!=0.1.92\n",
            "\u001b[?25l  Downloading https://files.pythonhosted.org/packages/e5/2d/6d4ca4bef9a67070fa1cac508606328329152b1df10bdf31fb6e4e727894/sentencepiece-0.1.94-cp36-cp36m-manylinux2014_x86_64.whl (1.1MB)\n",
            "\u001b[K     |████████████████████████████████| 1.1MB 21.5MB/s \n",
            "\u001b[?25hRequirement already satisfied: dataclasses; python_version < \"3.7\" in /usr/local/lib/python3.6/dist-packages (from transformers==3.2.0) (0.8)\n",
            "Collecting sacremoses\n",
            "\u001b[?25l  Downloading https://files.pythonhosted.org/packages/7d/34/09d19aff26edcc8eb2a01bed8e98f13a1537005d31e95233fd48216eed10/sacremoses-0.0.43.tar.gz (883kB)\n",
            "\u001b[K     |████████████████████████████████| 890kB 51.1MB/s \n",
            "\u001b[?25hCollecting tokenizers==0.8.1.rc2\n",
            "\u001b[?25l  Downloading https://files.pythonhosted.org/packages/80/83/8b9fccb9e48eeb575ee19179e2bdde0ee9a1904f97de5f02d19016b8804f/tokenizers-0.8.1rc2-cp36-cp36m-manylinux1_x86_64.whl (3.0MB)\n",
            "\u001b[K     |████████████████████████████████| 3.0MB 50.9MB/s \n",
            "\u001b[?25hRequirement already satisfied: numpy in /usr/local/lib/python3.6/dist-packages (from transformers==3.2.0) (1.18.5)\n",
            "Requirement already satisfied: tqdm>=4.27 in /usr/local/lib/python3.6/dist-packages (from transformers==3.2.0) (4.41.1)\n",
            "Requirement already satisfied: pyparsing>=2.0.2 in /usr/local/lib/python3.6/dist-packages (from packaging->transformers==3.2.0) (2.4.7)\n",
            "Requirement already satisfied: urllib3!=1.25.0,!=1.25.1,<1.26,>=1.21.1 in /usr/local/lib/python3.6/dist-packages (from requests->transformers==3.2.0) (1.24.3)\n",
            "Requirement already satisfied: idna<3,>=2.5 in /usr/local/lib/python3.6/dist-packages (from requests->transformers==3.2.0) (2.10)\n",
            "Requirement already satisfied: chardet<4,>=3.0.2 in /usr/local/lib/python3.6/dist-packages (from requests->transformers==3.2.0) (3.0.4)\n",
            "Requirement already satisfied: certifi>=2017.4.17 in /usr/local/lib/python3.6/dist-packages (from requests->transformers==3.2.0) (2020.12.5)\n",
            "Requirement already satisfied: six in /usr/local/lib/python3.6/dist-packages (from sacremoses->transformers==3.2.0) (1.15.0)\n",
            "Requirement already satisfied: click in /usr/local/lib/python3.6/dist-packages (from sacremoses->transformers==3.2.0) (7.1.2)\n",
            "Requirement already satisfied: joblib in /usr/local/lib/python3.6/dist-packages (from sacremoses->transformers==3.2.0) (0.17.0)\n",
            "Building wheels for collected packages: sacremoses\n",
            "  Building wheel for sacremoses (setup.py) ... \u001b[?25l\u001b[?25hdone\n",
            "  Created wheel for sacremoses: filename=sacremoses-0.0.43-cp36-none-any.whl size=893261 sha256=713775f5bf2aad4eae57901d9f891bc3e20dc7e665e8c5dc78c0b23844fb6263\n",
            "  Stored in directory: /root/.cache/pip/wheels/29/3c/fd/7ce5c3f0666dab31a50123635e6fb5e19ceb42ce38d4e58f45\n",
            "Successfully built sacremoses\n",
            "Installing collected packages: sentencepiece, sacremoses, tokenizers, transformers\n",
            "Successfully installed sacremoses-0.0.43 sentencepiece-0.1.94 tokenizers-0.8.1rc2 transformers-3.2.0\n"
          ],
          "name": "stdout"
        }
      ]
    },
    {
      "cell_type": "code",
      "metadata": {
        "ExecuteTime": {
          "end_time": "2020-03-05T14:50:47.759753Z",
          "start_time": "2020-03-05T14:50:45.744863Z"
        },
        "id": "IO3xMos3JjSt"
      },
      "source": [
        "import tensorflow as tf\n",
        "import pandas as pd\n",
        "from tensorflow import keras\n",
        "import statistics\n",
        "from tensorflow.keras.utils import to_categorical\n",
        "from tensorflow.keras.models import Sequential\n",
        "from tensorflow.keras.layers import Dense, LSTM, Conv1D, MaxPooling1D, Conv1D, Dropout, Embedding\n",
        "from tensorflow.keras.preprocessing import sequence\n",
        "from sklearn.model_selection import train_test_split\n",
        "from tensorflow.keras.preprocessing.text import text_to_word_sequence\n",
        "from tensorflow.keras.preprocessing.text import Tokenizer\n",
        "import matplotlib.pyplot as plt\n",
        "from transformers import BertTokenizer, TFBertModel\n",
        "import numpy as np\n",
        "import pickle\n",
        "from tensorflow.keras.preprocessing.sequence import pad_sequences"
      ],
      "execution_count": null,
      "outputs": []
    },
    {
      "cell_type": "code",
      "metadata": {
        "id": "pupMiV7xK7Xp"
      },
      "source": [
        "from tensorflow.keras.utils import to_categorical\r\n",
        "from tensorflow.keras.models import Sequential\r\n",
        "from tensorflow.keras.layers import Dense, LSTM, Conv1D, MaxPooling1D, Conv1D, Dropout, Embedding\r\n",
        "from tensorflow.keras.preprocessing import sequence\r\n",
        "from sklearn.model_selection import train_test_split\r\n",
        "from tensorflow.keras.preprocessing.text import text_to_word_sequence\r\n",
        "from tensorflow.keras.preprocessing.text import Tokenizer\r\n",
        "import matplotlib.pyplot as plt\r\n",
        "from transformers import BertTokenizer, TFBertModel\r\n",
        "import numpy as np\r\n",
        "import pickle\r\n",
        "from tensorflow.keras.preprocessing.sequence import pad_sequences\r\n",
        "import nltk"
      ],
      "execution_count": null,
      "outputs": []
    },
    {
      "cell_type": "code",
      "metadata": {
        "id": "Ji7H_igvmKUz"
      },
      "source": [
        ""
      ],
      "execution_count": null,
      "outputs": []
    },
    {
      "cell_type": "code",
      "metadata": {
        "id": "LKXUOYR_pkDU",
        "colab": {
          "base_uri": "https://localhost:8080/"
        },
        "outputId": "49937528-ba72-4cbb-eb6f-abab771376e1"
      },
      "source": [
        "from google.colab import drive\n",
        "drive.mount('/content/drive')\n",
        "\n",
        "nltk.download('punkt')"
      ],
      "execution_count": null,
      "outputs": [
        {
          "output_type": "stream",
          "text": [
            "Mounted at /content/drive\n",
            "[nltk_data] Downloading package punkt to /root/nltk_data...\n",
            "[nltk_data]   Unzipping tokenizers/punkt.zip.\n"
          ],
          "name": "stdout"
        },
        {
          "output_type": "execute_result",
          "data": {
            "text/plain": [
              "True"
            ]
          },
          "metadata": {
            "tags": []
          },
          "execution_count": 4
        }
      ]
    },
    {
      "cell_type": "code",
      "metadata": {
        "id": "qj2Rp_phJjSz"
      },
      "source": [
        "import os\n",
        "import pickle\n",
        "import pandas as pd"
      ],
      "execution_count": null,
      "outputs": []
    },
    {
      "cell_type": "code",
      "metadata": {
        "id": "Z9HbU9ZUJjS4"
      },
      "source": [
        "path_to_file = '/content/drive/MyDrive/test_all.csv'\r\n",
        "\r\n",
        "df = pd.read_csv(path_to_file)\r\n"
      ],
      "execution_count": null,
      "outputs": []
    },
    {
      "cell_type": "code",
      "metadata": {
        "colab": {
          "base_uri": "https://localhost:8080/",
          "height": 191
        },
        "id": "UUKJ6MIe7gQQ",
        "outputId": "3c5fabc9-6ac2-469a-ed17-f19ec53a534d"
      },
      "source": [
        "df.head()"
      ],
      "execution_count": null,
      "outputs": [
        {
          "output_type": "execute_result",
          "data": {
            "text/html": [
              "<div>\n",
              "<style scoped>\n",
              "    .dataframe tbody tr th:only-of-type {\n",
              "        vertical-align: middle;\n",
              "    }\n",
              "\n",
              "    .dataframe tbody tr th {\n",
              "        vertical-align: top;\n",
              "    }\n",
              "\n",
              "    .dataframe thead th {\n",
              "        text-align: right;\n",
              "    }\n",
              "</style>\n",
              "<table border=\"1\" class=\"dataframe\">\n",
              "  <thead>\n",
              "    <tr style=\"text-align: right;\">\n",
              "      <th></th>\n",
              "      <th>id</th>\n",
              "      <th>hyperpartisan</th>\n",
              "      <th>bias</th>\n",
              "      <th>url</th>\n",
              "      <th>labeled-by</th>\n",
              "      <th>published-at</th>\n",
              "      <th>title</th>\n",
              "      <th>body</th>\n",
              "    </tr>\n",
              "  </thead>\n",
              "  <tbody>\n",
              "    <tr>\n",
              "      <th>0</th>\n",
              "      <td>17</td>\n",
              "      <td>False</td>\n",
              "      <td>left-center</td>\n",
              "      <td>http://sfgate.com/politics/article/SAN-FRANCIS...</td>\n",
              "      <td>publisher</td>\n",
              "      <td>2004-07-29</td>\n",
              "      <td>SAN FRANCISCO / Head of Juvenile Probation Dep...</td>\n",
              "      <td>Chief juvenile probation officer  Gwendolyn Tu...</td>\n",
              "    </tr>\n",
              "    <tr>\n",
              "      <th>1</th>\n",
              "      <td>23</td>\n",
              "      <td>True</td>\n",
              "      <td>right</td>\n",
              "      <td>https://thecollegefix.com/post/32204/</td>\n",
              "      <td>publisher</td>\n",
              "      <td>2017-04-20</td>\n",
              "      <td>University leaders ban pro-life flag display, ...</td>\n",
              "      <td>Pro-life students at Wilfrid Laurier Universit...</td>\n",
              "    </tr>\n",
              "    <tr>\n",
              "      <th>2</th>\n",
              "      <td>29</td>\n",
              "      <td>True</td>\n",
              "      <td>left</td>\n",
              "      <td>https://wonkette.com/622815/donald-trump-get-y...</td>\n",
              "      <td>publisher</td>\n",
              "      <td>2017-09-12</td>\n",
              "      <td>DONALD TRUMP, GET YOUR TINY PIGGY PERVERT HAND...</td>\n",
              "      <td>Time for Hillary Clinton to go back to Benghaz...</td>\n",
              "    </tr>\n",
              "    <tr>\n",
              "      <th>3</th>\n",
              "      <td>32</td>\n",
              "      <td>True</td>\n",
              "      <td>right</td>\n",
              "      <td>http://thegatewaypundit.com/2016/06/dirty-croo...</td>\n",
              "      <td>publisher</td>\n",
              "      <td>2016-06-05</td>\n",
              "      <td>DIRTY: Hillary Clinton Implies Trump is a Nazi...</td>\n",
              "      <td>Do you want to know why violent unhinged lefti...</td>\n",
              "    </tr>\n",
              "    <tr>\n",
              "      <th>4</th>\n",
              "      <td>37</td>\n",
              "      <td>False</td>\n",
              "      <td>right-center</td>\n",
              "      <td>https://cfr.org/report/bipartisan-work-plan</td>\n",
              "      <td>publisher</td>\n",
              "      <td>2015-01-12</td>\n",
              "      <td>A Bipartisan Work Plan</td>\n",
              "      <td>American workers continue to struggle with los...</td>\n",
              "    </tr>\n",
              "  </tbody>\n",
              "</table>\n",
              "</div>"
            ],
            "text/plain": [
              "   id  ...                                               body\n",
              "0  17  ...  Chief juvenile probation officer  Gwendolyn Tu...\n",
              "1  23  ...  Pro-life students at Wilfrid Laurier Universit...\n",
              "2  29  ...  Time for Hillary Clinton to go back to Benghaz...\n",
              "3  32  ...  Do you want to know why violent unhinged lefti...\n",
              "4  37  ...  American workers continue to struggle with los...\n",
              "\n",
              "[5 rows x 8 columns]"
            ]
          },
          "metadata": {
            "tags": []
          },
          "execution_count": 7
        }
      ]
    },
    {
      "cell_type": "code",
      "metadata": {
        "id": "Ju_o_Gu0DiZ5"
      },
      "source": [
        ""
      ],
      "execution_count": null,
      "outputs": []
    },
    {
      "cell_type": "code",
      "metadata": {
        "id": "6e1sh7m61_-A"
      },
      "source": [
        "df_hyper_false = df[df.hyperpartisan == False]\r\n",
        "df_hyper_true = df[df.hyperpartisan == True]\r\n",
        "\r\n",
        "text_values_false = df_hyper_false.body.values\r\n",
        "text_values_true = df_hyper_true.body.values\r\n",
        "tragets_false = df_hyper_false.hyperpartisan.values\r\n",
        "tragets_true = df_hyper_true.hyperpartisan.values"
      ],
      "execution_count": null,
      "outputs": []
    },
    {
      "cell_type": "code",
      "metadata": {
        "colab": {
          "base_uri": "https://localhost:8080/"
        },
        "id": "WVsywmobItyy",
        "outputId": "77dbb665-7036-451d-886e-c47f9f25a144"
      },
      "source": [
        "text_values_false.shape, text_values_true.shape, tragets_false.shape, tragets_true.shape"
      ],
      "execution_count": null,
      "outputs": [
        {
          "output_type": "execute_result",
          "data": {
            "text/plain": [
              "((75000,), (75000,), (75000,), (75000,))"
            ]
          },
          "metadata": {
            "tags": []
          },
          "execution_count": 9
        }
      ]
    },
    {
      "cell_type": "code",
      "metadata": {
        "id": "18227BEIuacg"
      },
      "source": [
        "dataset_size_div_by_2 = 15_000\r\n",
        "\r\n",
        "text_values_false = text_values_false[:dataset_size_div_by_2]\r\n",
        "tragets_false = tragets_false[:dataset_size_div_by_2]\r\n",
        "#############################\r\n",
        "text_values_true = text_values_true[:dataset_size_div_by_2]\r\n",
        "tragets_true = tragets_true[:dataset_size_div_by_2]\r\n",
        "\r\n",
        "\r\n",
        "\r\n",
        "text = np.concatenate((text_values_false, text_values_true), axis=0)\r\n",
        "labels = np.concatenate((tragets_false, tragets_true), axis=0)\r\n"
      ],
      "execution_count": null,
      "outputs": []
    },
    {
      "cell_type": "code",
      "metadata": {
        "colab": {
          "base_uri": "https://localhost:8080/"
        },
        "id": "QLhftIGoKs89",
        "outputId": "8e0cd570-c10a-4c99-e2c1-56b88f24b53f"
      },
      "source": [
        "text.shape , labels.shape"
      ],
      "execution_count": null,
      "outputs": [
        {
          "output_type": "execute_result",
          "data": {
            "text/plain": [
              "((30000,), (30000,))"
            ]
          },
          "metadata": {
            "tags": []
          },
          "execution_count": 11
        }
      ]
    },
    {
      "cell_type": "code",
      "metadata": {
        "colab": {
          "base_uri": "https://localhost:8080/",
          "height": 83
        },
        "id": "fiz2x8dZN7H7",
        "outputId": "41df1e2c-8680-427f-fcf9-31e721ff75c3"
      },
      "source": [
        "text[0]"
      ],
      "execution_count": null,
      "outputs": [
        {
          "output_type": "execute_result",
          "data": {
            "application/vnd.google.colaboratory.intrinsic+json": {
              "type": "string"
            },
            "text/plain": [
              "'Chief juvenile probation officer  Gwendolyn Tucker juvenile probation commission The Juvenile Probation Commission held an emergency meeting Monday that lasted long into the night and is reconvening again today to discuss Tucker\\'s fate. Tucker, who was promoted from assistant chief last summer after then- chief  Jesse Williams Tucker has not publicly answered her accusers and referred all questions, including those about past or present gas leaks and other operational issues, to her private attorney,  Gregg Adam \"She will respond to the commission,\" Adam said. \"It\\'s not appropriate for her to respond publicly.\" The possible shakeup at the  Juvenile Probation Department \"It takes dedicated, willful leadership, the kind of leadership we might have to find outside of San Francisco,\" said  Andrea Shorter Center on Juvenile About a year ago, the Juvenile Probation Department adopted a new intake questionnaire meant to help probation officers determine whether recently arrested children should be locked up while awaiting their court date or released to a community program. Kids are graded according to the severity of their alleged crime, history and flight risk. Ntanya Lee Lee said Mayor  Gavin Newsom The Juvenile Probation Commission might move ahead without him. At Monday\\'s commission meeting, Lee joined other watchdogs and employees who testified about Tucker\\'s job performance. Tucker\\'s supporters included her director of special programs for youth, who declined to be interviewed later. Mercedes Hernandez-Bran, the department\\'s human resources director, told the commission that since December she has tried to alert Tucker and her staff about gas leaks and fires in the kitchen and laundry room at Log Cabin Ranch, a residential program in La Honda. But Hernandez-Bran alleged that her warnings were pushed aside. Longtime cook  Jeff Hatton La Honda volunteer fire Chief  Larry Whitney Meanwhile, Tucker and her attorney are awaiting the commission\\'s next move. Adam said he will argue that labor laws for peace officers afford her the right to appeal a dismissal, if that\\'s what is coming.'"
            ]
          },
          "metadata": {
            "tags": []
          },
          "execution_count": 12
        }
      ]
    },
    {
      "cell_type": "code",
      "metadata": {
        "id": "oWzhvOJr76I6"
      },
      "source": [
        "#####TO DO preprocess TEXT#########\r\n",
        "text_data = []\r\n",
        "new_labels = []\r\n",
        "for idx, val in enumerate(text):\r\n",
        "  if type(val) == str:\r\n",
        "    text_data.append(val.lower())\r\n",
        "    new_labels.append(labels[idx])\r\n",
        "del text"
      ],
      "execution_count": null,
      "outputs": []
    },
    {
      "cell_type": "code",
      "metadata": {
        "colab": {
          "base_uri": "https://localhost:8080/"
        },
        "id": "0sWcuI-oONrW",
        "outputId": "c51e6189-0503-458f-ed0c-e6d241f3b604"
      },
      "source": [
        "len(text_data)"
      ],
      "execution_count": null,
      "outputs": [
        {
          "output_type": "execute_result",
          "data": {
            "text/plain": [
              "29995"
            ]
          },
          "metadata": {
            "tags": []
          },
          "execution_count": 14
        }
      ]
    },
    {
      "cell_type": "code",
      "metadata": {
        "scrolled": true,
        "id": "e21D8jtOJjS7"
      },
      "source": [
        "from nltk.tokenize import sent_tokenize\n",
        "from nltk.tokenize import word_tokenize\n"
      ],
      "execution_count": null,
      "outputs": []
    },
    {
      "cell_type": "code",
      "metadata": {
        "id": "YOrFMtpLJjS_"
      },
      "source": [
        "sent_text = []\r\n",
        "for txt in text_data:\r\n",
        "  sent_text.append(word_tokenize(txt))\r\n"
      ],
      "execution_count": null,
      "outputs": []
    },
    {
      "cell_type": "code",
      "metadata": {
        "id": "MuAvBS_r-C3S",
        "colab": {
          "base_uri": "https://localhost:8080/",
          "height": 65,
          "referenced_widgets": [
            "986b002d4c1640ac93b22f2311773f3d",
            "bbbb0ff12c354618b53f0554588a863f",
            "c7c022181d3744999ba9420e01234c44",
            "eb97ca9f300541d9a97f9162b2aaf9ed",
            "b24d4f44a7734de4901dc76fda72284a",
            "f4ac587f59be4ea397eb0a07e496e3c7",
            "ae95deffcfaa4c2a8e47b19d8f8518d5",
            "b7691cf6e3c244f39bf061c5dec65593"
          ]
        },
        "outputId": "102f925b-4c71-48f5-e73f-506ba2fab602"
      },
      "source": [
        "from transformers import BertTokenizer\r\n",
        "tokenizer = BertTokenizer.from_pretrained('bert-base-uncased', do_lower_case=True)\r\n",
        "def prepareBertInput(tokenizer, sentences, max_seq_length):\r\n",
        "    input_ds = []\r\n",
        "    attention_masks = []\r\n",
        "    input_ds = []\r\n",
        "    all_labels = []\r\n",
        "    for index, sentence in enumerate(sentences):\r\n",
        "        ids = []\r\n",
        "        labels = []\r\n",
        "        for word_index, word in enumerate(sentence):\r\n",
        "            token = tokenizer.tokenize(word)\r\n",
        "            ids.extend(token)\r\n",
        "        if len(ids) >= max_seq_length - 2:\r\n",
        "            ids = ids[ :(max_seq_length - 2)]\r\n",
        "        while len(ids) < max_seq_length - 2:\r\n",
        "            ids.append(\"[PAD]\")\r\n",
        "        ids.append('[SEP]')\r\n",
        "        ids.insert(0, '[CLS]')\r\n",
        "        ids2idx = tokenizer.convert_tokens_to_ids(ids)\r\n",
        "        ids2idx = np.array(ids2idx)\r\n",
        "        input_ds.append(ids2idx)\r\n",
        "    attention_masks = []\r\n",
        "    segments_mask = []\r\n",
        "    for sent in input_ds:\r\n",
        "        att_mask = [int(token_id > 0) for token_id in sent]\r\n",
        "        attention_masks.append(att_mask)\r\n",
        "    input_ds = np.array(input_ds)\r\n",
        "    attention_masks = np.array(attention_masks)\r\n",
        "    return [input_ds, attention_masks, np.zeros(input_ds.shape)]\r\n"
      ],
      "execution_count": null,
      "outputs": [
        {
          "output_type": "display_data",
          "data": {
            "application/vnd.jupyter.widget-view+json": {
              "model_id": "986b002d4c1640ac93b22f2311773f3d",
              "version_minor": 0,
              "version_major": 2
            },
            "text/plain": [
              "HBox(children=(FloatProgress(value=0.0, description='Downloading', max=231508.0, style=ProgressStyle(descripti…"
            ]
          },
          "metadata": {
            "tags": []
          }
        },
        {
          "output_type": "stream",
          "text": [
            "\n"
          ],
          "name": "stdout"
        }
      ]
    },
    {
      "cell_type": "code",
      "metadata": {
        "id": "d-5wfjIzJJZu"
      },
      "source": [
        "max_seq_length = 200\r\n",
        "encoded = prepareBertInput(tokenizer, sent_text, max_seq_length)"
      ],
      "execution_count": null,
      "outputs": []
    },
    {
      "cell_type": "code",
      "metadata": {
        "id": "aTrkOwVZ1YWd"
      },
      "source": [
        "\r\n",
        "def getModel(LSTM_CELL_SIZE):\r\n",
        "    in_id = tf.keras.layers.Input((max_seq_length,), dtype='int32', name=\"bert_input_ids\")\r\n",
        "    in_mask = tf.keras.layers.Input((max_seq_length,), dtype='int32', name=\"bert_input_masks\")\r\n",
        "    in_segment = tf.keras.layers.Input((max_seq_length,), dtype='int32', name=\"bert_segment_ids\")\r\n",
        "    inputs = [in_id, in_mask, in_segment]\r\n",
        "    averaged_sents, _ = TFBertModel.from_pretrained(\"bert-base-uncased\", trainable=False, from_pt=False)(inputs)\r\n",
        "    lstm_later, forward_h, forward_c= tf.keras.layers.LSTM(LSTM_CELL_SIZE, return_sequences=True, return_state=True)(averaged_sents)\r\n",
        "    linear =  tf.keras.layers.Dense(LSTM_CELL_SIZE )(forward_h)\r\n",
        "    attention = tf.keras.layers.dot([lstm_later, linear], axes=(-1))\r\n",
        "    attention = tf.keras.layers.Activation('softmax',  name='attention_vec')(attention)\r\n",
        "    attention = tf.keras.layers.RepeatVector(LSTM_CELL_SIZE)(attention)\r\n",
        "    attention = tf.keras.layers.Permute([2, 1])(attention)\r\n",
        "    sent_representation = tf.keras.layers.multiply([lstm_later, attention])\r\n",
        "    sent_representation = tf.keras.layers.Lambda(lambda xin: tf.keras.backend.sum(xin, axis=1))(sent_representation)\r\n",
        "    sent_representation_final = tf.keras.layers.Concatenate()([sent_representation, forward_h])\r\n",
        "    drop = tf.keras.layers.Dropout(0.2)(sent_representation)\r\n",
        "    predictions = tf.keras.layers.Dense(2, activation='softmax')(drop)\r\n",
        "    model = tf.keras.Model(inputs=[in_id, in_mask, in_segment] , outputs=predictions)\r\n",
        "    opt = tf.keras.optimizers.Adam(learning_rate=0.001)\r\n",
        "    model.compile(optimizer=opt, loss='categorical_crossentropy', metrics=['acc'])\r\n",
        "    return model\r\n"
      ],
      "execution_count": null,
      "outputs": []
    },
    {
      "cell_type": "code",
      "metadata": {
        "ExecuteTime": {
          "end_time": "2020-03-05T14:50:48.023169Z",
          "start_time": "2020-03-05T14:50:48.010485Z"
        },
        "id": "yEVQTj8tJjTL",
        "colab": {
          "base_uri": "https://localhost:8080/",
          "height": 195,
          "referenced_widgets": [
            "9c44cf5f52f34717b70e3c32dbe0cf4c",
            "4f843f45399642918bd31699bac78b5c",
            "8a97950b3a6d4aa587940ac1822541d2",
            "2f4544dc96b84729b2661dd86233324f",
            "64269e2492cf4dfbb4d8938896f61700",
            "0ac5712e51684ad68adfd76e20221a95",
            "e27a7668b6fc4359952c491761b75b63",
            "09259e0989db44ec996af6d22be71779",
            "94059e58c2e94d449662fc158ea39dec",
            "c06a099b80d94d19ad8a14ff51d2c2e3",
            "199a53729c3d4fddbe9ff0b2db47be6c",
            "52f32e0bc62346458bee579d116548ca",
            "8ae04c7f052948daa5bb52c914e48a58",
            "7fb1a04464fd4d54bc9bdbb854579753",
            "56d107ab83764fa4889f983bc5f58dcd",
            "c493fd08e5094a9686dcfd325b51d99c"
          ]
        },
        "outputId": "2447ea65-9887-491c-bcdc-d39c433f3cf1"
      },
      "source": [
        "model = getModel(200)"
      ],
      "execution_count": null,
      "outputs": [
        {
          "output_type": "display_data",
          "data": {
            "application/vnd.jupyter.widget-view+json": {
              "model_id": "9c44cf5f52f34717b70e3c32dbe0cf4c",
              "version_minor": 0,
              "version_major": 2
            },
            "text/plain": [
              "HBox(children=(FloatProgress(value=0.0, description='Downloading', max=433.0, style=ProgressStyle(description_…"
            ]
          },
          "metadata": {
            "tags": []
          }
        },
        {
          "output_type": "stream",
          "text": [
            "\n"
          ],
          "name": "stdout"
        },
        {
          "output_type": "display_data",
          "data": {
            "application/vnd.jupyter.widget-view+json": {
              "model_id": "94059e58c2e94d449662fc158ea39dec",
              "version_minor": 0,
              "version_major": 2
            },
            "text/plain": [
              "HBox(children=(FloatProgress(value=0.0, description='Downloading', max=536063208.0, style=ProgressStyle(descri…"
            ]
          },
          "metadata": {
            "tags": []
          }
        },
        {
          "output_type": "stream",
          "text": [
            "\n"
          ],
          "name": "stdout"
        },
        {
          "output_type": "stream",
          "text": [
            "Some weights of the model checkpoint at bert-base-uncased were not used when initializing TFBertModel: ['mlm___cls', 'nsp___cls']\n",
            "- This IS expected if you are initializing TFBertModel from the checkpoint of a model trained on another task or with another architecture (e.g. initializing a BertForSequenceClassification model from a BertForPretraining model).\n",
            "- This IS NOT expected if you are initializing TFBertModel from the checkpoint of a model that you expect to be exactly identical (initializing a BertForSequenceClassification model from a BertForSequenceClassification model).\n",
            "All the weights of TFBertModel were initialized from the model checkpoint at bert-base-uncased.\n",
            "If your task is similar to the task the model of the checkpoint was trained on, you can already use TFBertModel for predictions without further training.\n"
          ],
          "name": "stderr"
        }
      ]
    },
    {
      "cell_type": "code",
      "metadata": {
        "ExecuteTime": {
          "end_time": "2020-03-05T14:50:49.503938Z",
          "start_time": "2020-03-05T14:50:49.485764Z"
        },
        "id": "rQKRq3rSJjTW"
      },
      "source": [
        "vals = list(zip(encoded[0], encoded[1], encoded[2]))\n",
        "X_train, X_test, y_train, y_test = train_test_split(vals, new_labels, test_size=0.1)\n",
        "y_train = [to_categorical(i, num_classes=2) for i in y_train]\n",
        "y_train= np.array(y_train)\n",
        "y_test = [to_categorical(i, num_classes=2) for i in y_test]\n",
        "y_test= np.array(y_test)"
      ],
      "execution_count": null,
      "outputs": []
    },
    {
      "cell_type": "code",
      "metadata": {
        "ExecuteTime": {
          "end_time": "2020-03-05T14:52:10.279566Z",
          "start_time": "2020-03-05T14:52:10.274809Z"
        },
        "id": "7XxSR3CPJjTg"
      },
      "source": [
        "\n",
        "X_train_ids, X_train_mask, X_train_segment = zip(*X_train)\n",
        "X_train_encoded = [np.array(X_train_ids), np.array(X_train_mask), np.array(X_train_segment)]\n",
        "\n",
        "\n",
        "X_test_ids, X_test_mask, X_test_segment = zip(*X_test)\n",
        "X_test_encoded = [np.array(X_test_ids), np.array(X_test_mask), np.array(X_test_segment)]\n"
      ],
      "execution_count": null,
      "outputs": []
    },
    {
      "cell_type": "code",
      "metadata": {
        "id": "4Q4t-8F0JjTj",
        "colab": {
          "base_uri": "https://localhost:8080/"
        },
        "outputId": "d763529f-d440-40e2-9cb7-cc4fc0aabe93"
      },
      "source": [
        "y_train[0]"
      ],
      "execution_count": null,
      "outputs": [
        {
          "output_type": "execute_result",
          "data": {
            "text/plain": [
              "array([1., 0.], dtype=float32)"
            ]
          },
          "metadata": {
            "tags": []
          },
          "execution_count": 23
        }
      ]
    },
    {
      "cell_type": "code",
      "metadata": {
        "ExecuteTime": {
          "end_time": "2020-03-05T14:52:10.282657Z",
          "start_time": "2020-03-05T14:52:10.281047Z"
        },
        "id": "w8JWULx-JjTm"
      },
      "source": [
        "#X_train_encoded = np.array(X_train_encoded)\n",
        "#X_train_encoded[0].shape"
      ],
      "execution_count": null,
      "outputs": []
    },
    {
      "cell_type": "code",
      "metadata": {
        "ExecuteTime": {
          "end_time": "2020-03-05T14:56:30.899243Z",
          "start_time": "2020-03-05T14:52:53.158245Z"
        },
        "id": "Mb6eGPQEJjTq",
        "colab": {
          "base_uri": "https://localhost:8080/"
        },
        "outputId": "b34784dd-e26c-4d59-b5c0-765e14d5f527"
      },
      "source": [
        "print(X_train_encoded[0].shape, X_train_encoded[0].dtype)\n",
        "print(X_train_encoded[1].shape, X_train_encoded[1].dtype)\n",
        "print(X_train_encoded[2].shape, X_train_encoded[2].dtype)\n",
        "print(y_train.shape, y_train.dtype)\n",
        "print(y_test.shape, y_test.dtype)\n",
        "# model.fit(X_train_encoded, y_train, shuffle=True, epochs=3, batch_size=32, validation_data=(X_test_encoded, y_test),\n",
        "#          sample_weight=sample_weights)\n",
        "\n",
        "model.fit(X_train_encoded, y_train, shuffle=True, epochs=7, batch_size=64, validation_data=(X_test_encoded, y_test))"
      ],
      "execution_count": null,
      "outputs": [
        {
          "output_type": "stream",
          "text": [
            "(26995, 200) int64\n",
            "(26995, 200) int64\n",
            "(26995, 200) float64\n",
            "(26995, 2) float32\n",
            "(3000, 2) float32\n",
            "Epoch 1/7\n",
            "422/422 [==============================] - 467s 1s/step - loss: 0.4555 - acc: 0.7742 - val_loss: 0.3673 - val_acc: 0.8257\n",
            "Epoch 2/7\n",
            "422/422 [==============================] - 489s 1s/step - loss: 0.3513 - acc: 0.8403 - val_loss: 0.3222 - val_acc: 0.8550\n",
            "Epoch 3/7\n",
            "422/422 [==============================] - 489s 1s/step - loss: 0.3035 - acc: 0.8657 - val_loss: 0.3031 - val_acc: 0.8630\n",
            "Epoch 4/7\n",
            "422/422 [==============================] - 489s 1s/step - loss: 0.2633 - acc: 0.8858 - val_loss: 0.2875 - val_acc: 0.8653\n",
            "Epoch 5/7\n",
            "422/422 [==============================] - 489s 1s/step - loss: 0.2292 - acc: 0.9009 - val_loss: 0.3023 - val_acc: 0.8703\n",
            "Epoch 6/7\n",
            "422/422 [==============================] - 489s 1s/step - loss: 0.2094 - acc: 0.9122 - val_loss: 0.2966 - val_acc: 0.8663\n",
            "Epoch 7/7\n",
            "422/422 [==============================] - 489s 1s/step - loss: 0.1836 - acc: 0.9228 - val_loss: 0.2773 - val_acc: 0.8797\n"
          ],
          "name": "stdout"
        },
        {
          "output_type": "execute_result",
          "data": {
            "text/plain": [
              "<tensorflow.python.keras.callbacks.History at 0x7fd77baaf940>"
            ]
          },
          "metadata": {
            "tags": []
          },
          "execution_count": 25
        }
      ]
    },
    {
      "cell_type": "code",
      "metadata": {
        "ExecuteTime": {
          "end_time": "2020-03-05T14:56:34.833293Z",
          "start_time": "2020-03-05T14:56:30.904077Z"
        },
        "id": "XNqCvMoJJjTt"
      },
      "source": [
        "from sklearn.metrics import precision_score, recall_score, f1_score, classification_report\n",
        "test_pred = model.predict(X_test_encoded)\n"
      ],
      "execution_count": null,
      "outputs": []
    },
    {
      "cell_type": "code",
      "metadata": {
        "id": "t9NMbs6dFpj-"
      },
      "source": [
        "pred_scores = []\r\n"
      ],
      "execution_count": null,
      "outputs": []
    },
    {
      "cell_type": "code",
      "metadata": {
        "colab": {
          "base_uri": "https://localhost:8080/"
        },
        "id": "IUHP8r-BFaN1",
        "outputId": "7c1aa156-9d27-4917-eb7b-42ef9eeb8849"
      },
      "source": [
        "y_test.shape"
      ],
      "execution_count": null,
      "outputs": [
        {
          "output_type": "execute_result",
          "data": {
            "text/plain": [
              "(3000, 2)"
            ]
          },
          "metadata": {
            "tags": []
          },
          "execution_count": 28
        }
      ]
    },
    {
      "cell_type": "code",
      "metadata": {
        "ExecuteTime": {
          "end_time": "2020-03-05T14:56:34.935733Z",
          "start_time": "2020-03-05T14:56:34.881149Z"
        },
        "id": "MLqVzIrKJjTy"
      },
      "source": [
        ""
      ],
      "execution_count": null,
      "outputs": []
    },
    {
      "cell_type": "code",
      "metadata": {
        "id": "ATtwkm6wJjT0"
      },
      "source": [
        "model.save_weights('/content/drive/MyDrive/Colab Notebooks/SRI_model_weights/')"
      ],
      "execution_count": null,
      "outputs": []
    },
    {
      "cell_type": "code",
      "metadata": {
        "id": "0OEw4T72JjT3"
      },
      "source": [
        ""
      ],
      "execution_count": null,
      "outputs": []
    },
    {
      "cell_type": "code",
      "metadata": {
        "id": "pADvP4AsJjT6"
      },
      "source": [
        "#42 f1 on 2 min"
      ],
      "execution_count": null,
      "outputs": []
    }
  ]
}